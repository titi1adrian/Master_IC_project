{
 "cells": [
  {
   "cell_type": "code",
   "execution_count": 3,
   "metadata": {},
   "outputs": [],
   "source": [
    "#Importare biblioteci necesare\n",
    "\n",
    "import os\n",
    "import numpy as np\n",
    "import matplotlib.pyplot as plt\n",
    "import cv2\n",
    "import pickle\n",
    "import ipyplot\n",
    "from sklearn.model_selection import train_test_split"
   ]
  },
  {
   "cell_type": "code",
   "execution_count": 4,
   "metadata": {},
   "outputs": [],
   "source": [
    "#Importare poze + Atribuire etichete + Redimensionare\n",
    "\n",
    "data_dir = './data2/'\n",
    "\n",
    "categories = ['daisy', 'dandelion', 'rose', 'sunflower', 'tulip']\n",
    "data = []\n",
    "\n",
    "def make_data():\n",
    "    for category in categories:\n",
    "        path = os.path.join(data_dir, category)\n",
    "        label = categories.index(category)\n",
    "        \n",
    "        for img_name in os.listdir(path):\n",
    "            image_path = os.path.join(path, img_name)\n",
    "            image = cv2.imread(image_path)\n",
    "            #image = cv2.cvtColor(image, cv2.COLOR_BGR2GRAY) # BGR -> Gray\n",
    "            image = cv2.resize(image, (300, 200)) # redimensionare\n",
    "            image = np.array(image, dtype = np.float32) #img -> array\n",
    "            \n",
    "            data.append([image, label])\n",
    "            \n",
    "    np.random.shuffle(data)\n",
    "    \n",
    "    features = []\n",
    "    labels = []\n",
    "    \n",
    "    for img, lbl in data:\n",
    "        features.append(img)\n",
    "        labels.append(lbl)\n",
    "        \n",
    "    feature = np.array(features, dtype = np.float32)\n",
    "    labels = np.array(labels, dtype = np.float32)\n",
    "    \n",
    "    return [features, labels]\n",
    "\n",
    "        \n",
    "\n",
    " \n",
    "  "
   ]
  },
  {
   "cell_type": "code",
   "execution_count": 5,
   "metadata": {},
   "outputs": [],
   "source": [
    "#Features - Labels - etichetele pozelor\n",
    "\n",
    "[features, labels] = make_data()"
   ]
  },
  {
   "cell_type": "code",
   "execution_count": 6,
   "metadata": {},
   "outputs": [
    {
     "name": "stdout",
     "output_type": "stream",
     "text": [
      "(2416, 200, 300, 3)\n",
      "(2416,)\n"
     ]
    }
   ],
   "source": [
    "print(np.shape(features))\n",
    "print(np.shape(labels))"
   ]
  },
  {
   "cell_type": "code",
   "execution_count": 7,
   "metadata": {},
   "outputs": [
    {
     "name": "stdout",
     "output_type": "stream",
     "text": [
      "(1932, 200, 300, 3)\n",
      "(484, 200, 300, 3)\n",
      "(1932,)\n",
      "(484,)\n"
     ]
    }
   ],
   "source": [
    "#Impartire Train - Test\n",
    "\n",
    "x_train, x_test, y_train, y_test = train_test_split(features, labels, test_size = 0.2)\n",
    "\n",
    "#Intensitatile pixelilor din poze\n",
    "print(np.shape(x_train))\n",
    "print(np.shape(x_test))\n",
    "\n",
    "#Etichetele\n",
    "print(np.shape(y_train))\n",
    "print(np.shape(y_test))"
   ]
  },
  {
   "cell_type": "code",
   "execution_count": 8,
   "metadata": {},
   "outputs": [
    {
     "name": "stdout",
     "output_type": "stream",
     "text": [
      "(1932, 180000)\n",
      "(484, 180000)\n"
     ]
    }
   ],
   "source": [
    "#Flat\n",
    "\n",
    "x_train_flat = []\n",
    "for i in x_train:\n",
    "    x_train_flat.append(i.flatten())\n",
    "    \n",
    "x_test_flat = []\n",
    "for i in x_test:\n",
    "    x_test_flat.append(i.flatten())\n",
    "\n",
    "print(np.shape(x_train_flat))\n",
    "print(np.shape(x_test_flat))"
   ]
  },
  {
   "cell_type": "code",
   "execution_count": 9,
   "metadata": {},
   "outputs": [
    {
     "data": {
      "text/plain": [
       "PCA(n_components=400)"
      ]
     },
     "execution_count": 9,
     "metadata": {},
     "output_type": "execute_result"
    }
   ],
   "source": [
    "from sklearn.decomposition import PCA\n",
    "\n",
    "pca = PCA(n_components=400)\n",
    "pca.fit(x_train_flat)\n",
    "\n",
    "pca1 = PCA(n_components=400)\n",
    "pca1.fit(x_test_flat)"
   ]
  },
  {
   "cell_type": "code",
   "execution_count": 10,
   "metadata": {},
   "outputs": [
    {
     "name": "stdout",
     "output_type": "stream",
     "text": [
      "(1932, 400)\n",
      "(484, 400)\n"
     ]
    }
   ],
   "source": [
    "x_train_pca = pca.transform(x_train_flat)\n",
    "print(np.shape(x_train_pca))\n",
    "\n",
    "x_test_pca = pca.transform(x_test_flat)\n",
    "print(np.shape(x_test_pca))"
   ]
  },
  {
   "cell_type": "code",
   "execution_count": 11,
   "metadata": {},
   "outputs": [
    {
     "data": {
      "text/plain": [
       "SVC()"
      ]
     },
     "execution_count": 11,
     "metadata": {},
     "output_type": "execute_result"
    }
   ],
   "source": [
    "from sklearn import svm\n",
    "\n",
    "clf = svm.SVC()\n",
    "clf.fit(x_train_pca, y_train)"
   ]
  },
  {
   "cell_type": "code",
   "execution_count": 12,
   "metadata": {},
   "outputs": [],
   "source": [
    "test_predict = clf.predict(x_test_pca)\n"
   ]
  },
  {
   "cell_type": "code",
   "execution_count": 13,
   "metadata": {},
   "outputs": [
    {
     "name": "stdout",
     "output_type": "stream",
     "text": [
      "Counter({4.0: 131, 3.0: 103, 2.0: 101, 0.0: 96, 1.0: 53})\n",
      "\n",
      "\n",
      "\n",
      "Counter({4.0: 129, 3.0: 114, 0.0: 101, 2.0: 86, 1.0: 54})\n"
     ]
    }
   ],
   "source": [
    "import collections\n",
    "\n",
    "print(collections.Counter(y_test))\n",
    "print(\"\\n\\n\")\n",
    "print(collections.Counter(test_predict))"
   ]
  },
  {
   "cell_type": "code",
   "execution_count": 14,
   "metadata": {},
   "outputs": [
    {
     "name": "stdout",
     "output_type": "stream",
     "text": [
      "Clasificari corecte : 307 / 484\n",
      "Rata este : 63.42975206611571\n"
     ]
    }
   ],
   "source": [
    "cnt = 0\n",
    "for i in range(len(y_test)):\n",
    "    if test_predict[i] == y_test[i]:\n",
    "        cnt += 1\n",
    "print (\"Clasificari corecte : \" + str(cnt) + \" / \" + str(len(y_test)))  \n",
    "print (\"Rata este : \" + str(cnt / len(y_test) * 100))"
   ]
  },
  {
   "cell_type": "code",
   "execution_count": 15,
   "metadata": {},
   "outputs": [
    {
     "name": "stdout",
     "output_type": "stream",
     "text": [
      "[[64 10  4  3 15]\n",
      " [13 34  1  1  4]\n",
      " [ 8  4 53  4 32]\n",
      " [ 2  0  1 89 11]\n",
      " [14  6 27 17 67]]\n"
     ]
    }
   ],
   "source": [
    "from sklearn.metrics import confusion_matrix\n",
    "\n",
    "cm = confusion_matrix(y_true = y_test[:] ,y_pred = test_predict)\n",
    "print(cm)"
   ]
  },
  {
   "cell_type": "code",
   "execution_count": null,
   "metadata": {},
   "outputs": [],
   "source": []
  }
 ],
 "metadata": {
  "kernelspec": {
   "display_name": "Python 3",
   "language": "python",
   "name": "python3"
  },
  "language_info": {
   "codemirror_mode": {
    "name": "ipython",
    "version": 3
   },
   "file_extension": ".py",
   "mimetype": "text/x-python",
   "name": "python",
   "nbconvert_exporter": "python",
   "pygments_lexer": "ipython3",
   "version": "3.8.3"
  }
 },
 "nbformat": 4,
 "nbformat_minor": 4
}
